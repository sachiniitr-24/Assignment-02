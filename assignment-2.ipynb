{
 "cells": [
  {
   "cell_type": "code",
   "execution_count": null,
   "id": "625bf229-ccb8-4275-b7d6-bbc6b9a91c59",
   "metadata": {},
   "outputs": [],
   "source": [
    "Q1.How do you comment on python? What are the different types of comments?"
   ]
  },
  {
   "cell_type": "code",
   "execution_count": 2,
   "id": "72398b6e-fe48-424b-abbf-8e83a138d25d",
   "metadata": {},
   "outputs": [],
   "source": [
    "ANS- In python comments are used to annotate any function which we are trying to perform. The Python IDE can't interpret it while execution.\n",
    "Comments are 2 types - Single line and Multiline\n",
    "i) Single line - We can add '#' at the beginning of eachcommeant line.\n",
    "ii) Multi line - We can add triple quotes ( ''') or (\"\"\") ''' at the beginning and end of the multi line sentences or pragraph. "
   ]
  },
  {
   "cell_type": "code",
   "execution_count": 3,
   "id": "62a6b9a6-79db-461a-b1f4-631897a6fb74",
   "metadata": {},
   "outputs": [
    {
     "data": {
      "text/plain": [
       "int"
      ]
     },
     "execution_count": 3,
     "metadata": {},
     "output_type": "execute_result"
    }
   ],
   "source": [
    "#Comment-1\n",
    "x=5 #comment-2 can be written alongside with the code\n",
    "type (x)"
   ]
  },
  {
   "cell_type": "code",
   "execution_count": 7,
   "id": "1d8a15b8-26b9-418c-844b-b82193399a70",
   "metadata": {},
   "outputs": [
    {
     "data": {
      "text/plain": [
       "' \\nI am learning Data Science from PW Skills. \\nThe instructor is teaxching nicely.\\nI am submiiting my assignment-02 \\n'"
      ]
     },
     "execution_count": 7,
     "metadata": {},
     "output_type": "execute_result"
    }
   ],
   "source": [
    "''' \n",
    "I am learning Data Science from PW Skills. \n",
    "The instructor is teaxching nicely.\n",
    "I am submiiting my assignment-02 \n",
    "'''"
   ]
  },
  {
   "cell_type": "code",
   "execution_count": 8,
   "id": "5108180a-4bdf-4037-a67b-007840cf7695",
   "metadata": {},
   "outputs": [
    {
     "data": {
      "text/plain": [
       "'\\nI am learning Data Science from PW Skills. \\nThe instructor is teaxching nicely.\\nI am submiiting my assignment-02 \\n'"
      ]
     },
     "execution_count": 8,
     "metadata": {},
     "output_type": "execute_result"
    }
   ],
   "source": [
    "\"\"\"\n",
    "I am learning Data Science from PW Skills. \n",
    "The instructor is teaxching nicely.\n",
    "I am submiiting my assignment-02 \n",
    "\"\"\""
   ]
  },
  {
   "cell_type": "code",
   "execution_count": null,
   "id": "548100bb-c340-475f-8aef-869225e71430",
   "metadata": {},
   "outputs": [],
   "source": [
    "# Pressing ctrl + '/'\n",
    "# I am learning Data Science from PW Skills. \n",
    "# The instructor is teaxching nicely.\n",
    "# I am submiiting my assignment-02 "
   ]
  },
  {
   "cell_type": "code",
   "execution_count": null,
   "id": "c7bf4af2-4ac4-4509-a57e-f092ae4969f0",
   "metadata": {},
   "outputs": [],
   "source": [
    "Q2. What are variables in python? How do you declare and assign values to varibles?"
   ]
  },
  {
   "cell_type": "code",
   "execution_count": null,
   "id": "d4ac8b3b-cec3-4aa2-b1d2-bee96d63bff4",
   "metadata": {},
   "outputs": [],
   "source": [
    "Variables contains values or information for a particular data type. Based on the values or information we assign, python determine the variable type. Variables are case sensitive."
   ]
  },
  {
   "cell_type": "code",
   "execution_count": 13,
   "id": "166fb6ef-3135-46fc-9a00-0807afbd2347",
   "metadata": {},
   "outputs": [
    {
     "name": "stdout",
     "output_type": "stream",
     "text": [
      "<class 'int'> <class 'float'> <class 'complex'> <class 'str'> <class 'bool'> <class 'list'> <class 'tuple'>\n"
     ]
    }
   ],
   "source": [
    "a=5\n",
    "b=4.6\n",
    "c=4+7j\n",
    "d='sachin'\n",
    "e=True\n",
    "f=[2,3.5,'abcde',False]\n",
    "g=(1,-3.4,['xyz',True, 234])\n",
    "print (type (a),type (b),type (c),type(d),type(e),type(f),type(g)) #The variables a,b,c,d,e,f,g assigned with values corresponds to different data set."
   ]
  },
  {
   "cell_type": "code",
   "execution_count": null,
   "id": "4f6289b7-e6c9-480f-a271-3248d9c0f508",
   "metadata": {},
   "outputs": [],
   "source": [
    "Q3. How do you convert one data type to another in python?"
   ]
  },
  {
   "cell_type": "code",
   "execution_count": null,
   "id": "cf994e16-3c11-44b0-94ff-f45dcf1282c4",
   "metadata": {},
   "outputs": [],
   "source": [
    "In python we can change data type through type conversion."
   ]
  },
  {
   "cell_type": "code",
   "execution_count": 23,
   "id": "9b771f56-857b-4cb6-a096-ce12eba902ad",
   "metadata": {},
   "outputs": [
    {
     "name": "stdout",
     "output_type": "stream",
     "text": [
      "True\n",
      "12\n",
      "123\n",
      "3.0\n",
      "1\n",
      "-8\n",
      "5.6\n",
      "6.8\n"
     ]
    }
   ],
   "source": [
    "#int to bool\n",
    "a=5\n",
    "b=bool(x)\n",
    "print (b)\n",
    "#int to str\n",
    "a1=12\n",
    "b1=str(x)\n",
    "print (b1)\n",
    "#str to int\n",
    "a2='123'\n",
    "b2=int(a2)\n",
    "print (b2)\n",
    "#int to float\n",
    "a3=3\n",
    "b3=float(a3)\n",
    "print (b3)\n",
    "#bool to int\n",
    "a4=True\n",
    "b4=int(a4)\n",
    "print (b4)\n",
    "#float to int\n",
    "a5=-8.7\n",
    "b5=int(a5)\n",
    "print (b5)\n",
    "#float to str\n",
    "a6=5.6\n",
    "b6=str(a6)\n",
    "print(b6)\n",
    "#str to float\n",
    "a7='6.8'\n",
    "b7=float(a7)\n",
    "print(b7)"
   ]
  },
  {
   "cell_type": "code",
   "execution_count": 13,
   "id": "5715beef-5db1-4b30-ab05-6a4588027caf",
   "metadata": {},
   "outputs": [
    {
     "name": "stdout",
     "output_type": "stream",
     "text": [
      "(1, 2, 'abc')\n",
      "[3.5, (4+5j), True]\n",
      "{'a': 1, 'b': 2, 'c': 3}\n",
      "[('a', 1), ('b', 2), ('c', 3)]\n",
      "(('a', 1), ('b', 2))\n",
      "{'x': 10, 'y': 20}\n"
     ]
    }
   ],
   "source": [
    "#list to tuple\n",
    "x1=[1,2,'abc']\n",
    "y1=tuple(x1)\n",
    "print(y1)\n",
    "#tuple to list\n",
    "x2=(3.5,4+5j,True)\n",
    "y2=list(x2)\n",
    "print (y2)\n",
    "#list to dict\n",
    "x3=[('a',1),('b',2),('c',3)]\n",
    "y3=dict(x3)\n",
    "print (y3)\n",
    "#dict to list\n",
    "x4={'a':1,'b':2,'c':3}\n",
    "y4=list (x4.items())\n",
    "print (y4)\n",
    "#dict to tuple\n",
    "x5={'a':1,'b':2}\n",
    "y5=tuple(x5.items())\n",
    "print (y5)\n",
    "#tuple to dict\n",
    "x6=(('x',10),('y',20))\n",
    "y6=dict(x6)\n",
    "print(y6)\n",
    "     "
   ]
  },
  {
   "cell_type": "code",
   "execution_count": null,
   "id": "a6dbe6e1-51b9-4268-84bc-5646df382f90",
   "metadata": {},
   "outputs": [],
   "source": [
    "Q4. How do you write and execute a python script from the command line ? "
   ]
  },
  {
   "cell_type": "code",
   "execution_count": null,
   "id": "1570d06e-4870-4bf0-b874-920b5ecac313",
   "metadata": {},
   "outputs": [],
   "source": [
    "Ans - I write python code in the PW Skills lab in the jupytor note book. I can write also in VS code, Notepad ++ and can also run python command from uuntu terminal."
   ]
  },
  {
   "cell_type": "code",
   "execution_count": 14,
   "id": "47a8d07d-422d-493d-a287-f8489d6e3efe",
   "metadata": {},
   "outputs": [
    {
     "name": "stdout",
     "output_type": "stream",
     "text": [
      "Hello world\n"
     ]
    }
   ],
   "source": [
    "print ('Hello world')"
   ]
  },
  {
   "cell_type": "code",
   "execution_count": null,
   "id": "130f23a9-8bd6-4577-b773-77890c49002c",
   "metadata": {},
   "outputs": [],
   "source": [
    "The above execution is saved under .ipynb extension in my jupytor notebook."
   ]
  },
  {
   "cell_type": "code",
   "execution_count": null,
   "id": "9cde542f-7ad1-4105-bf0c-ac76f05315a5",
   "metadata": {},
   "outputs": [],
   "source": [
    "Q5. Given a list my_list =[1,2,3,4,5], while the code to slice the list and obtain the sub-list [2,3]"
   ]
  },
  {
   "cell_type": "code",
   "execution_count": 5,
   "id": "dd76ac9f-c8f4-4633-a732-100d5453c979",
   "metadata": {},
   "outputs": [
    {
     "name": "stdout",
     "output_type": "stream",
     "text": [
      "[2, 3]\n"
     ]
    }
   ],
   "source": [
    "#Ans- \n",
    "my_list=[1,2,3,4,5]\n",
    "sub_list = my_list[1:3]\n",
    "print (sub_list)"
   ]
  },
  {
   "cell_type": "code",
   "execution_count": null,
   "id": "85839d60-47ba-4220-83db-4a02910f24d8",
   "metadata": {},
   "outputs": [],
   "source": [
    "Q6. What is complex no. in mathematics, and how is it represented in python?"
   ]
  },
  {
   "cell_type": "code",
   "execution_count": null,
   "id": "ff5a66f9-814d-4a9d-868e-8dd174190739",
   "metadata": {},
   "outputs": [],
   "source": [
    "Complex no. in maths is the combination of real and imaginary no., e.g- 4+5i , where 4 and 5 are real unit and i is the imaginary unit.\n",
    "In python complex no. is designated as- a+bj,e.g- 4+5j, where 4 and 5 are the real nos. and j is the imaginary counterpart for -i"
   ]
  },
  {
   "cell_type": "code",
   "execution_count": 6,
   "id": "f5265a3f-d065-4bd4-9b56-6535600b6eb7",
   "metadata": {},
   "outputs": [
    {
     "name": "stdout",
     "output_type": "stream",
     "text": [
      "<class 'complex'>\n",
      "4.0\n",
      "5.0\n"
     ]
    }
   ],
   "source": [
    "a=4+5j\n",
    "print (type(a))\n",
    "print (a.real)\n",
    "print (a.imag)"
   ]
  },
  {
   "cell_type": "code",
   "execution_count": null,
   "id": "0fc194bd-9226-4c34-bea6-7d8c0310687c",
   "metadata": {},
   "outputs": [],
   "source": [
    "Q7. What is the correct way to declare a variable named age and assign the value 25 to it?"
   ]
  },
  {
   "cell_type": "code",
   "execution_count": 7,
   "id": "2196c4c4-9fe7-41ca-9882-f7a904ee9429",
   "metadata": {},
   "outputs": [
    {
     "name": "stdout",
     "output_type": "stream",
     "text": [
      "25\n"
     ]
    }
   ],
   "source": [
    "age = 25\n",
    "print (age)"
   ]
  },
  {
   "cell_type": "code",
   "execution_count": null,
   "id": "b258015c-f858-47df-97dd-03b59a7cac05",
   "metadata": {},
   "outputs": [],
   "source": [
    "Q8. Declare a variable named price and assign the value 9.99 to it. What data type does this variable belong to?"
   ]
  },
  {
   "cell_type": "code",
   "execution_count": 9,
   "id": "27963de2-bd08-4f48-ab75-4b859b16018c",
   "metadata": {},
   "outputs": [
    {
     "name": "stdout",
     "output_type": "stream",
     "text": [
      "<class 'float'>\n",
      "9.99\n"
     ]
    }
   ],
   "source": [
    "price = 9.99\n",
    "print (type (price))\n",
    "print (price) #The assigned data type is float"
   ]
  },
  {
   "cell_type": "code",
   "execution_count": null,
   "id": "4203cf0d-465c-4601-8d1a-d0731c721db3",
   "metadata": {},
   "outputs": [],
   "source": [
    "Q9. Create a variable named name and assign your full name to it as a string. How would you print the value of this variable?"
   ]
  },
  {
   "cell_type": "code",
   "execution_count": 10,
   "id": "306299fb-7880-4b8f-9600-004bcaaa8073",
   "metadata": {},
   "outputs": [
    {
     "name": "stdout",
     "output_type": "stream",
     "text": [
      "Sachin Agarwal\n",
      "<class 'str'>\n"
     ]
    }
   ],
   "source": [
    "name='Sachin Agarwal'\n",
    "print (name)\n",
    "print (type (name))"
   ]
  },
  {
   "cell_type": "code",
   "execution_count": null,
   "id": "b73d6c11-c3b5-4727-b669-3157377c758f",
   "metadata": {},
   "outputs": [],
   "source": [
    "Q10. Given the string \"Hello, world!\", extract the substring \"world\"."
   ]
  },
  {
   "cell_type": "code",
   "execution_count": 17,
   "id": "4c9e201a-7dc7-4919-b551-a9c5c4903d0c",
   "metadata": {},
   "outputs": [
    {
     "name": "stdout",
     "output_type": "stream",
     "text": [
      "world\n"
     ]
    }
   ],
   "source": [
    "str1=\"Hello, world!\"\n",
    "index=str1.find(\"world\")\n",
    "if index != -1:\n",
    "    str2 = str1 [index:index+5]\n",
    "    print (str2)\n",
    "    "
   ]
  },
  {
   "cell_type": "code",
   "execution_count": null,
   "id": "9423498a-ffcb-46b1-b27b-5ea1d0d2b347",
   "metadata": {},
   "outputs": [],
   "source": [
    "Q11.Create a variable named \"is_student\" and assign it a boolean value indicating whether you are currently a student or not?"
   ]
  },
  {
   "cell_type": "code",
   "execution_count": 24,
   "id": "978daca7-e786-472b-b9f7-4e35dd133dee",
   "metadata": {},
   "outputs": [
    {
     "name": "stdout",
     "output_type": "stream",
     "text": [
      "Current Student\n",
      "<class 'bool'>\n"
     ]
    }
   ],
   "source": [
    "is_student = True\n",
    "if (type(is_student)) == bool :\n",
    "    print (\"Current Student\")\n",
    "else:\n",
    "    print (\"Not Student\")\n",
    "print (type(is_student))\n"
   ]
  },
  {
   "cell_type": "code",
   "execution_count": null,
   "id": "72f4de74-405a-412a-94ae-0f674637ab75",
   "metadata": {},
   "outputs": [],
   "source": []
  }
 ],
 "metadata": {
  "kernelspec": {
   "display_name": "Python 3 (ipykernel)",
   "language": "python",
   "name": "python3"
  },
  "language_info": {
   "codemirror_mode": {
    "name": "ipython",
    "version": 3
   },
   "file_extension": ".py",
   "mimetype": "text/x-python",
   "name": "python",
   "nbconvert_exporter": "python",
   "pygments_lexer": "ipython3",
   "version": "3.10.8"
  }
 },
 "nbformat": 4,
 "nbformat_minor": 5
}
